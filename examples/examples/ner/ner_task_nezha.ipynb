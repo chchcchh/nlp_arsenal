{
 "cells": [
  {
   "cell_type": "code",
   "execution_count": 1,
   "id": "6a3dd5a7-9e59-46b6-8c21-e5ddff0ecd90",
   "metadata": {},
   "outputs": [],
   "source": [
    "import os\n",
    "os.chdir('../../')"
   ]
  },
  {
   "cell_type": "code",
   "execution_count": 2,
   "id": "260d701b-15f3-4417-9bb4-d3da32bd0ec5",
   "metadata": {},
   "outputs": [],
   "source": [
    "from dd_nlp_arsenal.dataset.global_pointer_named_entity_recognition_dataset import GlobalPointerNERDataset\n",
    "# from dd_nlp_arsenal.processor.tokenizer.nezha import TransfomerTokenizer\n",
    "\n",
    "import pandas as pd\n",
    "from transformers import AdamW\n",
    "from torch import nn\n",
    "\n",
    "import torch"
   ]
  },
  {
   "cell_type": "code",
   "execution_count": 3,
   "id": "ea56a1a4-4286-4483-a81d-44f920797407",
   "metadata": {},
   "outputs": [],
   "source": [
    "from dd_nlp_arsenal.processor.tokenizer.ori_transformer import SpanTokenizer\n",
    "from dd_nlp_arsenal.model.ner.global_pointer_bert.global_pointer_nezha import GlobalPointerNezha\n",
    "from dd_nlp_arsenal.model.ner.global_pointer_bert.global_pointer_bert import GlobalPointerBert"
   ]
  },
  {
   "cell_type": "code",
   "execution_count": 4,
   "id": "cbeda67b-f892-41b9-aca3-c5f86e57a425",
   "metadata": {},
   "outputs": [],
   "source": [
    "def get_entity_bio(seq, id2label):\n",
    "    \"\"\"Gets entities from sequence.\n",
    "    note: BIO\n",
    "    Args:\n",
    "        seq (list): sequence of labels.\n",
    "    Returns:\n",
    "        list: list of (chunk_type, chunk_start, chunk_end).\n",
    "    Example:\n",
    "        seq = ['B-PER', 'I-PER', 'O', 'B-LOC']\n",
    "        get_entity_bio(seq)\n",
    "        #output\n",
    "        [['PER', 0, 1], ['LOC', 3, 3]]\n",
    "    \"\"\"\n",
    "    chunks = []\n",
    "    chunk = [-1, -1, -1]\n",
    "    for indx, tag in enumerate(seq):\n",
    "        if not isinstance(tag, str):\n",
    "            tag = id2label[tag]\n",
    "        if tag.startswith(\"B-\"):\n",
    "            if chunk[2] != -1:\n",
    "                chunks.append(chunk)\n",
    "            chunk = [-1, -1, -1]\n",
    "            chunk[1] = indx\n",
    "            chunk[0] = tag.split('-')[1]\n",
    "            chunk[2] = indx\n",
    "            if indx == len(seq) - 1:\n",
    "                chunks.append(chunk)\n",
    "        elif tag.startswith('I-') and chunk[1] != -1:\n",
    "            _type = tag.split('-')[1]\n",
    "            if _type == chunk[0]:\n",
    "                chunk[2] = indx\n",
    "\n",
    "            if indx == len(seq) - 1:\n",
    "                chunks.append(chunk)\n",
    "        else:\n",
    "            if chunk[2] != -1:\n",
    "                chunks.append(chunk)\n",
    "            chunk = [-1, -1, -1]\n",
    "    return chunks"
   ]
  },
  {
   "cell_type": "code",
   "execution_count": 5,
   "id": "8d52e316-d8c4-4a4c-9fad-7889573b6081",
   "metadata": {},
   "outputs": [],
   "source": [
    "datalist = []\n",
    "with open('/Users/anulz/gobal_pointer_baseline.txt', 'r', encoding='utf-8') as f:\n",
    "    lines = f.readlines()\n",
    "    lines.append('\\n')\n",
    "    \n",
    "    text = []\n",
    "    labels = []\n",
    "    label_set = set()\n",
    "    \n",
    "    for line in lines[:1000]: \n",
    "        if line == '\\n':                \n",
    "            text = ''.join(text)\n",
    "            entity_labels = []\n",
    "            for _type, _start_idx, _end_idx in get_entity_bio(labels, id2label=None):\n",
    "                entity_labels.append({\n",
    "                    'start_idx': _start_idx,\n",
    "                    'end_idx': _end_idx,\n",
    "                    'type': _type,\n",
    "                    'entity': text[_start_idx: _end_idx+1]\n",
    "                })\n",
    "                \n",
    "            if text == '':\n",
    "                continue\n",
    "            \n",
    "            datalist.append({\n",
    "                'text': text,\n",
    "                'label': entity_labels\n",
    "            })\n",
    "            \n",
    "            text = []\n",
    "            labels = []\n",
    "            \n",
    "        elif line == '  O\\n':\n",
    "            text.append(' ')\n",
    "            labels.append('O')\n",
    "        else:\n",
    "            line = line.strip('\\n').split()\n",
    "            if len(line) == 1:\n",
    "                term = ' '\n",
    "                label = line[0]\n",
    "            else:\n",
    "                term, label = line\n",
    "            text.append(term)\n",
    "            label_set.add(label.split('-')[-1])\n",
    "            labels.append(label)"
   ]
  },
  {
   "cell_type": "code",
   "execution_count": 6,
   "id": "cc0b77f3-2e2b-4130-995e-296eac2fa0af",
   "metadata": {},
   "outputs": [],
   "source": [
    "# _ans = []\n",
    "# with open('/Users/anulz/gobal_pointer_baseline.txt', 'r', encoding='utf-8') as f:\n",
    "#     lines = f.readlines()\n",
    "#     lines.append('\\n')\n",
    "#     for line in lines: \n",
    "#         if line[0] == ' ' and line != '  O\\n':\n",
    "#             _ans.append('  O\\n')\n",
    "#         else:\n",
    "#             _ans.append(line)\n",
    "\n",
    "# with open('/Users/anulz/gobal_pointer_baseline_postprocess.txt', 'w', encoding='utf-8') as f:\n",
    "#     for line in _ans:\n",
    "#         f.write(line)"
   ]
  },
  {
   "cell_type": "code",
   "execution_count": 7,
   "id": "4c9103cd-c643-4921-8896-b08f6b622a14",
   "metadata": {},
   "outputs": [],
   "source": [
    "# 这里随意分割了一下看指标，建议实际使用sklearn分割或者交叉验证\n",
    "\n",
    "train_data_df = pd.DataFrame(datalist)\n",
    "train_data_df['label'] = train_data_df['label'].apply(lambda x: str(x))\n",
    "\n",
    "dev_data_df = pd.DataFrame(datalist[-400:])\n",
    "dev_data_df['label'] = dev_data_df['label'].apply(lambda x: str(x))"
   ]
  },
  {
   "cell_type": "code",
   "execution_count": 8,
   "id": "6db9f6f4-aa5a-4268-acf2-5859567c53f4",
   "metadata": {},
   "outputs": [],
   "source": [
    "label_list = sorted(list(label_set))"
   ]
  },
  {
   "cell_type": "code",
   "execution_count": 9,
   "id": "966f95d8-7173-4824-939e-d72bd090be0d",
   "metadata": {},
   "outputs": [],
   "source": [
    "ner_train_dataset = GlobalPointerNERDataset(train_data_df, categories=label_list)\n",
    "ner_dev_dataset = GlobalPointerNERDataset(dev_data_df, categories=ner_train_dataset.categories)"
   ]
  },
  {
   "cell_type": "code",
   "execution_count": 10,
   "id": "2d34001b-0251-4df0-9176-c6fdcb78e197",
   "metadata": {},
   "outputs": [],
   "source": [
    "# tokenizer = Tokenizer(vocab='hfl/chinese-bert-wwm', max_seq_len=128)\n",
    "\n",
    "tokenizer = SpanTokenizer('/Users/anulz/github/code/NLP/PTM/nezha-cn-base/',128)"
   ]
  },
  {
   "cell_type": "code",
   "execution_count": 11,
   "id": "9dd5a91d-564e-4002-a5f6-4785e2494a53",
   "metadata": {},
   "outputs": [],
   "source": [
    "ner_train_dataset.convert_to_ids(tokenizer)\n",
    "ner_dev_dataset.convert_to_ids(tokenizer)"
   ]
  },
  {
   "cell_type": "code",
   "execution_count": 12,
   "id": "10b7b5ed-dc47-47b9-98be-fffd8bec1b19",
   "metadata": {},
   "outputs": [],
   "source": [
    "class Config():\n",
    "    seed = 2022\n",
    "    max_sen_len = 100\n",
    "    train_batch_size = 256\n",
    "    val_batch_size = 256\n",
    "    num_labels = None\n",
    "    bert_pretrained_name = '/Users/anulz/github/code/NLP/PTM/nezha-cn-base/'\n",
    "    trained_model_path = '.ckptbest_ner.pth'\n",
    "    pre_model_type = 'nezha-cn-base'\n",
    "    cuda_device = -1\n",
    "    is_full_data = False\n",
    "    params_path = './2022-gaiic-ner/'\n",
    "    # 训练模型参数\n",
    "    hidden_size = 768\n",
    "    num_workers = 0\n",
    "    multi_gpu = False\n",
    "    n_epoch = 6\n",
    "    min_store_epoch = 5\n",
    "    scheduler_type = None\n",
    "    gp_head_size = 64   #128\n",
    "    # trick 参数\n",
    "    attack_func = 'fgm'  #fgm  pgd\n",
    "    pgd_k = 3\n",
    "    is_use_rdrop = False\n",
    "    alpha = 0.25\n",
    "    is_use_swa = False\n",
    "    ema_decay = 0.995\n",
    "config = Config()\n",
    "config.num_labels = len(ner_train_dataset.cat2id)"
   ]
  },
  {
   "cell_type": "code",
   "execution_count": 13,
   "id": "91215dae-aeed-42ed-8fff-ac791b064da1",
   "metadata": {},
   "outputs": [],
   "source": [
    "class GlobalPointerCrossEntropy(nn.Module):\n",
    "    '''Multi-class Focal loss implementation'''\n",
    "    def __init__(self, ):\n",
    "        super(GlobalPointerCrossEntropy, self).__init__()\n",
    "\n",
    "    @staticmethod\n",
    "    def multilabel_categorical_crossentropy(y_true, y_pred):\n",
    "        y_pred = (1 - 2 * y_true) * y_pred\n",
    "        y_pred_neg = y_pred - y_true * 1e12\n",
    "        y_pred_pos = y_pred - (1 - y_true) * 1e12\n",
    "        zeros = torch.zeros_like(y_pred[..., :1])\n",
    "        y_pred_neg = torch.cat([y_pred_neg, zeros], dim=-1)\n",
    "        y_pred_pos = torch.cat([y_pred_pos, zeros], dim=-1)\n",
    "        neg_loss = torch.logsumexp(y_pred_neg, dim=-1)\n",
    "        pos_loss = torch.logsumexp(y_pred_pos, dim=-1)\n",
    "\n",
    "        return neg_loss + pos_loss\n",
    "\n",
    "    def forward(self, logits, target):\n",
    "        \"\"\"\n",
    "        logits: [N, C, L, L]\n",
    "        \"\"\"\n",
    "        bh = logits.shape[0] * logits.shape[1]\n",
    "        target = torch.reshape(target.to_dense(), (bh, -1))\n",
    "        logits = torch.reshape(logits, (bh, -1))\n",
    "        return torch.mean(GlobalPointerCrossEntropy.multilabel_categorical_crossentropy(target, logits))\n"
   ]
  },
  {
   "cell_type": "code",
   "execution_count": 14,
   "id": "166b7a95-143a-4fb7-a04c-1a4df05d1c8b",
   "metadata": {},
   "outputs": [],
   "source": [
    "def get_default_bert_optimizer(\n",
    "    module,\n",
    "    lr: float = 3e-5,\n",
    "    eps: float = 1e-6,\n",
    "    correct_bias: bool = True,\n",
    "    weight_decay: float = 1e-3,\n",
    "):\n",
    "    no_decay = [\"bias\", \"LayerNorm.weight\"]\n",
    "    optimizer_grouped_parameters = [\n",
    "        {\"params\": [p for n, p in module.named_parameters() if not any(nd in n for nd in no_decay)],\n",
    "            \"weight_decay\": weight_decay},\n",
    "        {\"params\": [p for n, p in module.named_parameters() if any(nd in n for nd in no_decay)],\n",
    "            \"weight_decay\": 0.0},\n",
    "    ]\n",
    "    optimizer = AdamW(optimizer_grouped_parameters,\n",
    "                      lr=lr,\n",
    "                      eps=eps,\n",
    "                      correct_bias=correct_bias,\n",
    "                      weight_decay=weight_decay)\n",
    "    return optimizer"
   ]
  },
  {
   "cell_type": "code",
   "execution_count": 15,
   "id": "9fe4295d-0cab-4f44-a174-c7cefff9e317",
   "metadata": {},
   "outputs": [
    {
     "name": "stderr",
     "output_type": "stream",
     "text": [
      "You are using a model of type bert to instantiate a model of type nezha. This is not supported for all configurations of models and can yield errors.\n",
      "Some weights of NeZhaModel were not initialized from the model checkpoint at /Users/anulz/github/code/NLP/PTM/nezha-cn-base/ and are newly initialized: []\n",
      "You should probably TRAIN this model on a down-stream task to be able to use it for predictions and inference.\n"
     ]
    }
   ],
   "source": [
    "model = GlobalPointerNezha(config)\n",
    "\n",
    "optimizer = AdamW(model.parameters())\n",
    "loss_func = GlobalPointerCrossEntropy()"
   ]
  },
  {
   "cell_type": "code",
   "execution_count": 16,
   "id": "41147605-7586-4c29-bc49-aad914928d39",
   "metadata": {},
   "outputs": [],
   "source": [
    "from dd_nlp_arsenal.factory.task.ner_task.ner_task import GlobalPointerNERTask"
   ]
  },
  {
   "cell_type": "code",
   "execution_count": 17,
   "id": "3dd261f4-65a2-4d82-a51c-b02d8dadc2a6",
   "metadata": {},
   "outputs": [
    {
     "name": "stderr",
     "output_type": "stream",
     "text": [
      "Model type: nezha-cn-base\n",
      "device: cpu\n",
      "Init pre-train model...\n"
     ]
    }
   ],
   "source": [
    "task = GlobalPointerNERTask(model, optimizer, loss_func, config)"
   ]
  },
  {
   "cell_type": "code",
   "execution_count": 19,
   "id": "f3cdd5ee-636e-4b1d-8b31-32bb2cddc7c8",
   "metadata": {},
   "outputs": [
    {
     "name": "stderr",
     "output_type": "stream",
     "text": [
      "Epoch 1/6\n",
      "----------\n",
      "  0%|          | 0/1 [00:00<?, ?it/s]"
     ]
    },
    {
     "name": "stdout",
     "output_type": "stream",
     "text": [
      "inputs torch.Size([18, 128, 768])\n",
      "dense inputs torch.Size([18, 128, 2944])\n"
     ]
    },
    {
     "name": "stderr",
     "output_type": "stream",
     "text": [
      "  0%|          | 0/1 [00:17<?, ?it/s]\n"
     ]
    },
    {
     "ename": "KeyboardInterrupt",
     "evalue": "",
     "output_type": "error",
     "traceback": [
      "\u001b[0;31m---------------------------------------------------------------------------\u001b[0m",
      "\u001b[0;31mKeyboardInterrupt\u001b[0m                         Traceback (most recent call last)",
      "\u001b[0;32m<ipython-input-19-8a767765237f>\u001b[0m in \u001b[0;36m<module>\u001b[0;34m\u001b[0m\n\u001b[0;32m----> 1\u001b[0;31m \u001b[0mtask\u001b[0m\u001b[0;34m.\u001b[0m\u001b[0mfit\u001b[0m\u001b[0;34m(\u001b[0m\u001b[0mner_train_dataset\u001b[0m\u001b[0;34m,\u001b[0m\u001b[0mconfig\u001b[0m\u001b[0;34m,\u001b[0m\u001b[0mner_dev_dataset\u001b[0m\u001b[0;34m)\u001b[0m\u001b[0;34m\u001b[0m\u001b[0;34m\u001b[0m\u001b[0m\n\u001b[0m",
      "\u001b[0;32m~/github/nlp_arsenal/dd_nlp_arsenal/factory/task/ner_task/ner_task.py\u001b[0m in \u001b[0;36mfit\u001b[0;34m(self, train_data, config, val_data, is_full_data)\u001b[0m\n\u001b[1;32m     93\u001b[0m             \u001b[0mlogging\u001b[0m\u001b[0;34m.\u001b[0m\u001b[0minfo\u001b[0m\u001b[0;34m(\u001b[0m\u001b[0;34mf'Epoch {epoch + 1}/{config.n_epoch}'\u001b[0m\u001b[0;34m)\u001b[0m\u001b[0;34m\u001b[0m\u001b[0;34m\u001b[0m\u001b[0m\n\u001b[1;32m     94\u001b[0m             \u001b[0mlogging\u001b[0m\u001b[0;34m.\u001b[0m\u001b[0minfo\u001b[0m\u001b[0;34m(\u001b[0m\u001b[0;34m'-'\u001b[0m \u001b[0;34m*\u001b[0m \u001b[0;36m10\u001b[0m\u001b[0;34m)\u001b[0m\u001b[0;34m\u001b[0m\u001b[0;34m\u001b[0m\u001b[0m\n\u001b[0;32m---> 95\u001b[0;31m             \u001b[0mtrain_loss\u001b[0m \u001b[0;34m=\u001b[0m \u001b[0mself\u001b[0m\u001b[0;34m.\u001b[0m\u001b[0m_train_epoch\u001b[0m\u001b[0;34m(\u001b[0m\u001b[0mself\u001b[0m\u001b[0;34m.\u001b[0m\u001b[0mmodel\u001b[0m\u001b[0;34m,\u001b[0m \u001b[0mtrain_loader\u001b[0m\u001b[0;34m,\u001b[0m \u001b[0mattack_func\u001b[0m\u001b[0;34m,\u001b[0m \u001b[0mconfig\u001b[0m\u001b[0;34m)\u001b[0m\u001b[0;34m\u001b[0m\u001b[0;34m\u001b[0m\u001b[0m\n\u001b[0m\u001b[1;32m     96\u001b[0m             \u001b[0mlogging\u001b[0m\u001b[0;34m.\u001b[0m\u001b[0minfo\u001b[0m\u001b[0;34m(\u001b[0m\u001b[0;34mf'Train loss {train_loss}'\u001b[0m\u001b[0;34m)\u001b[0m\u001b[0;34m\u001b[0m\u001b[0;34m\u001b[0m\u001b[0m\n\u001b[1;32m     97\u001b[0m             \u001b[0;32mif\u001b[0m \u001b[0;32mnot\u001b[0m \u001b[0mis_full_data\u001b[0m\u001b[0;34m:\u001b[0m\u001b[0;34m\u001b[0m\u001b[0;34m\u001b[0m\u001b[0m\n",
      "\u001b[0;32m~/github/nlp_arsenal/dd_nlp_arsenal/factory/task/ner_task/ner_task.py\u001b[0m in \u001b[0;36m_train_epoch\u001b[0;34m(self, model, data_loader, attack_func, config)\u001b[0m\n\u001b[1;32m    153\u001b[0m \u001b[0;34m\u001b[0m\u001b[0m\n\u001b[1;32m    154\u001b[0m             \u001b[0mlosses\u001b[0m\u001b[0;34m.\u001b[0m\u001b[0mappend\u001b[0m\u001b[0;34m(\u001b[0m\u001b[0mloss\u001b[0m\u001b[0;34m.\u001b[0m\u001b[0mitem\u001b[0m\u001b[0;34m(\u001b[0m\u001b[0;34m)\u001b[0m\u001b[0;34m)\u001b[0m\u001b[0;34m\u001b[0m\u001b[0;34m\u001b[0m\u001b[0m\n\u001b[0;32m--> 155\u001b[0;31m             \u001b[0mloss\u001b[0m\u001b[0;34m.\u001b[0m\u001b[0mbackward\u001b[0m\u001b[0;34m(\u001b[0m\u001b[0;34m)\u001b[0m\u001b[0;34m\u001b[0m\u001b[0;34m\u001b[0m\u001b[0m\n\u001b[0m\u001b[1;32m    156\u001b[0m             \u001b[0mnn\u001b[0m\u001b[0;34m.\u001b[0m\u001b[0mutils\u001b[0m\u001b[0;34m.\u001b[0m\u001b[0mclip_grad_norm_\u001b[0m\u001b[0;34m(\u001b[0m\u001b[0mmodel\u001b[0m\u001b[0;34m.\u001b[0m\u001b[0mparameters\u001b[0m\u001b[0;34m(\u001b[0m\u001b[0;34m)\u001b[0m\u001b[0;34m,\u001b[0m \u001b[0mmax_norm\u001b[0m\u001b[0;34m=\u001b[0m\u001b[0;36m1.0\u001b[0m\u001b[0;34m)\u001b[0m\u001b[0;34m\u001b[0m\u001b[0;34m\u001b[0m\u001b[0m\n\u001b[1;32m    157\u001b[0m \u001b[0;34m\u001b[0m\u001b[0m\n",
      "\u001b[0;32m~/opt/anaconda3/lib/python3.8/site-packages/torch/_tensor.py\u001b[0m in \u001b[0;36mbackward\u001b[0;34m(self, gradient, retain_graph, create_graph, inputs)\u001b[0m\n\u001b[1;32m    253\u001b[0m                 \u001b[0mcreate_graph\u001b[0m\u001b[0;34m=\u001b[0m\u001b[0mcreate_graph\u001b[0m\u001b[0;34m,\u001b[0m\u001b[0;34m\u001b[0m\u001b[0;34m\u001b[0m\u001b[0m\n\u001b[1;32m    254\u001b[0m                 inputs=inputs)\n\u001b[0;32m--> 255\u001b[0;31m         \u001b[0mtorch\u001b[0m\u001b[0;34m.\u001b[0m\u001b[0mautograd\u001b[0m\u001b[0;34m.\u001b[0m\u001b[0mbackward\u001b[0m\u001b[0;34m(\u001b[0m\u001b[0mself\u001b[0m\u001b[0;34m,\u001b[0m \u001b[0mgradient\u001b[0m\u001b[0;34m,\u001b[0m \u001b[0mretain_graph\u001b[0m\u001b[0;34m,\u001b[0m \u001b[0mcreate_graph\u001b[0m\u001b[0;34m,\u001b[0m \u001b[0minputs\u001b[0m\u001b[0;34m=\u001b[0m\u001b[0minputs\u001b[0m\u001b[0;34m)\u001b[0m\u001b[0;34m\u001b[0m\u001b[0;34m\u001b[0m\u001b[0m\n\u001b[0m\u001b[1;32m    256\u001b[0m \u001b[0;34m\u001b[0m\u001b[0m\n\u001b[1;32m    257\u001b[0m     \u001b[0;32mdef\u001b[0m \u001b[0mregister_hook\u001b[0m\u001b[0;34m(\u001b[0m\u001b[0mself\u001b[0m\u001b[0;34m,\u001b[0m \u001b[0mhook\u001b[0m\u001b[0;34m)\u001b[0m\u001b[0;34m:\u001b[0m\u001b[0;34m\u001b[0m\u001b[0;34m\u001b[0m\u001b[0m\n",
      "\u001b[0;32m~/opt/anaconda3/lib/python3.8/site-packages/torch/autograd/__init__.py\u001b[0m in \u001b[0;36mbackward\u001b[0;34m(tensors, grad_tensors, retain_graph, create_graph, grad_variables, inputs)\u001b[0m\n\u001b[1;32m    145\u001b[0m         \u001b[0mretain_graph\u001b[0m \u001b[0;34m=\u001b[0m \u001b[0mcreate_graph\u001b[0m\u001b[0;34m\u001b[0m\u001b[0;34m\u001b[0m\u001b[0m\n\u001b[1;32m    146\u001b[0m \u001b[0;34m\u001b[0m\u001b[0m\n\u001b[0;32m--> 147\u001b[0;31m     Variable._execution_engine.run_backward(\n\u001b[0m\u001b[1;32m    148\u001b[0m         \u001b[0mtensors\u001b[0m\u001b[0;34m,\u001b[0m \u001b[0mgrad_tensors_\u001b[0m\u001b[0;34m,\u001b[0m \u001b[0mretain_graph\u001b[0m\u001b[0;34m,\u001b[0m \u001b[0mcreate_graph\u001b[0m\u001b[0;34m,\u001b[0m \u001b[0minputs\u001b[0m\u001b[0;34m,\u001b[0m\u001b[0;34m\u001b[0m\u001b[0;34m\u001b[0m\u001b[0m\n\u001b[1;32m    149\u001b[0m         allow_unreachable=True, accumulate_grad=True)  # allow_unreachable flag\n",
      "\u001b[0;31mKeyboardInterrupt\u001b[0m: "
     ]
    }
   ],
   "source": [
    "task.fit(ner_train_dataset,config,ner_dev_dataset)"
   ]
  },
  {
   "cell_type": "code",
   "execution_count": null,
   "id": "e648e97a-89bb-409a-9b1a-76af957c7fc2",
   "metadata": {},
   "outputs": [],
   "source": []
  },
  {
   "cell_type": "code",
   "execution_count": null,
   "id": "809be737-4353-4dcd-a5d8-22fb9bb7b82a",
   "metadata": {},
   "outputs": [],
   "source": [
    "model.load_state_dict(torch.load('/Users/anulz/ckptbest_ner.pth',map_location=torch.device('cpu')))"
   ]
  },
  {
   "cell_type": "code",
   "execution_count": null,
   "id": "8a91d53e-23d1-431c-b7df-7bf2992b49df",
   "metadata": {},
   "outputs": [],
   "source": [
    "import numpy as np"
   ]
  },
  {
   "cell_type": "code",
   "execution_count": null,
   "id": "167a0212-6ff4-4328-8c16-08b98e4633b0",
   "metadata": {},
   "outputs": [],
   "source": [
    "class GlobalPointerNERPredictor(object):\n",
    "    \"\"\"\n",
    "    GlobalPointer命名实体识别的预测器\n",
    "\n",
    "    Args:\n",
    "        module: 深度学习模型\n",
    "        tokernizer: 分词器\n",
    "        cat2id (:obj:`dict`): 标签映射\n",
    "    \"\"\"  # noqa: ignore flake8\"\n",
    "\n",
    "    def __init__(\n",
    "            self,\n",
    "            module,\n",
    "            tokernizer,\n",
    "            cat2id\n",
    "    ):\n",
    "        self.module = module\n",
    "        self.module.task = 'TokenLevel'\n",
    "\n",
    "        self.cat2id = cat2id\n",
    "        self.tokenizer = tokernizer\n",
    "        self.device = list(self.module.parameters())[0].device\n",
    "\n",
    "        self.id2cat = {}\n",
    "        for cat_, idx_ in self.cat2id.items():\n",
    "            self.id2cat[idx_] = cat_\n",
    "\n",
    "    def _convert_to_transfomer_ids(\n",
    "            self,\n",
    "            text\n",
    "    ):\n",
    "\n",
    "        tokens = self.tokenizer.tokenize(text)\n",
    "        token_mapping = self.tokenizer.get_token_mapping(text, tokens)\n",
    "\n",
    "        input_ids = self.tokenizer.sequence_to_ids(tokens)\n",
    "        input_ids, input_mask, segment_ids = input_ids\n",
    "\n",
    "        zero = [0 for i in range(self.tokenizer.max_seq_len)]\n",
    "        span_mask = [input_mask for i in range(sum(input_mask))]\n",
    "        span_mask.extend([zero for i in range(sum(input_mask), self.tokenizer.max_seq_len)])\n",
    "        span_mask = np.array(span_mask)\n",
    "\n",
    "        features = {\n",
    "            'input_ids': input_ids,\n",
    "            'attention_mask': input_mask,\n",
    "            'token_type_ids': segment_ids,\n",
    "            'span_mask': span_mask\n",
    "        }\n",
    "\n",
    "        return features, token_mapping\n",
    "\n",
    "    def _get_input_ids(\n",
    "            self,\n",
    "            text\n",
    "    ):\n",
    "        if self.tokenizer.tokenizer_type == 'transformer':\n",
    "            return self._convert_to_transfomer_ids(text)\n",
    "        elif self.tokenizer.tokenizer_type == 'customized':\n",
    "            return self._convert_to_customized_ids(text)\n",
    "        else:\n",
    "            raise ValueError(\"The tokenizer type does not exist\")\n",
    "\n",
    "    def _get_module_one_sample_inputs(\n",
    "            self,\n",
    "            features\n",
    "    ):\n",
    "        return {col: torch.Tensor(features[col]).type(torch.long).unsqueeze(0).to(self.device) for col in features}\n",
    "\n",
    "    def predict_one_sample(\n",
    "            self,\n",
    "            text='',\n",
    "            threshold=0\n",
    "    ):\n",
    "        \"\"\"\n",
    "        单样本预测\n",
    "\n",
    "        Args:\n",
    "            text (:obj:`string`): 输入文本\n",
    "            threshold (:obj:`float`, optional, defaults to 0): 预测的阈值\n",
    "        \"\"\"  # noqa: ignore flake8\"\n",
    "\n",
    "        features, token_mapping = self._get_input_ids(text)\n",
    "        self.module.eval()\n",
    "\n",
    "        with torch.no_grad():\n",
    "            inputs = self._get_module_one_sample_inputs(features)\n",
    "            scores = self.module(**inputs)[0].cpu()\n",
    "\n",
    "        scores[:, [0, -1]] -= np.inf\n",
    "        scores[:, :, [0, -1]] -= np.inf\n",
    "\n",
    "        entities = []\n",
    "        \n",
    "        for category, start, end in zip(*np.where(scores > threshold)):\n",
    "            if end - 1 >= token_mapping[-1][-1]:\n",
    "                break\n",
    "            print('start',start,'end',end)\n",
    "            if token_mapping[start - 1][0] <= token_mapping[end - 1][-1]:\n",
    "                entitie_ = {\n",
    "                    \"start_idx\": token_mapping[start - 1][0],\n",
    "                    \"end_idx\": token_mapping[end - 1][-1],\n",
    "                    \"entity\": text[token_mapping[start - 1][0]: token_mapping[end - 1][-1] + 1],\n",
    "                    \"type\": self.id2cat[category]\n",
    "                }\n",
    "\n",
    "                if entitie_['entity'] == '':\n",
    "                    continue\n",
    "\n",
    "                entities.append(entitie_)\n",
    "\n",
    "        return entities"
   ]
  },
  {
   "cell_type": "code",
   "execution_count": null,
   "id": "1a55ed85-63fa-47f3-93b7-181c09fe638d",
   "metadata": {},
   "outputs": [],
   "source": [
    "ner_predictor_instance = GlobalPointerNERPredictor(model, tokenizer, ner_train_dataset.cat2id)\n",
    "\n",
    "from tqdm import tqdm\n",
    "\n",
    "predict_results = []\n",
    "\n",
    "with open('./examples/ner/test_data_A/sample_per_line_preliminary_A.txt', 'r', encoding='utf-8') as f:\n",
    "    lines = f.readlines()\n",
    "    for idx,_line in enumerate(lines):\n",
    "        if idx > 2957:\n",
    "            print('idx',idx)\n",
    "            label = len(_line) * ['O']\n",
    "            for _preditc in ner_predictor_instance.predict_one_sample(_line[:-1]):\n",
    "                if 'I' in label[_preditc['start_idx']]:\n",
    "                    continue\n",
    "                if 'B' in label[_preditc['start_idx']] and 'O' not in label[_preditc['end_idx']]:\n",
    "                    continue\n",
    "                if 'O' in label[_preditc['start_idx']] and 'B' in label[_preditc['end_idx']]:\n",
    "                    continue\n",
    "\n",
    "                label[_preditc['start_idx']] = 'B-' + _preditc['type']\n",
    "                label[_preditc['start_idx'] + 1: _preditc['end_idx'] + 1] = (_preditc['end_idx'] - _preditc[\n",
    "                    'start_idx']) * [('I-' + _preditc['type'])]\n",
    "\n",
    "            predict_results.append([_line, label])\n"
   ]
  },
  {
   "cell_type": "code",
   "execution_count": null,
   "id": "8228aec7-1b4b-4653-9a26-435f9d1999ba",
   "metadata": {},
   "outputs": [],
   "source": []
  },
  {
   "cell_type": "code",
   "execution_count": null,
   "id": "7ecbf0b4-8335-4e46-ad0c-58de2ad31c48",
   "metadata": {},
   "outputs": [],
   "source": []
  },
  {
   "cell_type": "code",
   "execution_count": null,
   "id": "31e808c1-3101-4e7c-a5ed-1e395086a000",
   "metadata": {},
   "outputs": [],
   "source": [
    "with open('/opt/meituan/cephfs/share/gutianyi/competition/2022-gaiic-ner/gobal_pointer_baseline.txt', 'w', encoding='utf-8') as f:\n",
    "    for _result in predict_results:\n",
    "        for word, tag in zip(_result[0], _result[1]):\n",
    "            if word == '\\n':\n",
    "                continue\n",
    "            f.write(f'{word} {tag}\\n')\n",
    "        f.write('\\n')"
   ]
  }
 ],
 "metadata": {
  "kernelspec": {
   "display_name": "Python 3",
   "language": "python",
   "name": "python3"
  },
  "language_info": {
   "codemirror_mode": {
    "name": "ipython",
    "version": 3
   },
   "file_extension": ".py",
   "mimetype": "text/x-python",
   "name": "python",
   "nbconvert_exporter": "python",
   "pygments_lexer": "ipython3",
   "version": "3.8.10"
  }
 },
 "nbformat": 4,
 "nbformat_minor": 5
}
